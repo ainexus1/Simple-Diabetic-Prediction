{
 "cells": [
  {
   "cell_type": "code",
   "execution_count": null,
   "id": "e71e6f8d-5e49-4300-a945-6099b519ff73",
   "metadata": {},
   "outputs": [],
   "source": [
    "import numpy as np\n",
    "import pandas as pd\n",
    "from sklearn.preprocessing import StandardScaler\n",
    "from sklearn.model_selection import train_test_split\n",
    "from sklearn import svm\n",
    "from sklearn.metrics import accuracy_score"
   ]
  },
  {
   "cell_type": "code",
   "execution_count": null,
   "id": "9235594a-bab9-40c6-9f0b-ee3e6c237d9c",
   "metadata": {},
   "outputs": [],
   "source": [
    "df = pd.read_csv(\"\")#your diabetes dataset here\n",
    "df.head(10)"
   ]
  },
  {
   "cell_type": "code",
   "execution_count": null,
   "id": "3724c338-933f-4b82-b915-f5729466f566",
   "metadata": {},
   "outputs": [],
   "source": [
    "df.describe"
   ]
  },
  {
   "cell_type": "code",
   "execution_count": null,
   "id": "0588777a-157f-4886-b0b7-d1abd1faff52",
   "metadata": {},
   "outputs": [],
   "source": [
    "df['Outcome'].value_counts()"
   ]
  },
  {
   "cell_type": "code",
   "execution_count": null,
   "id": "5a20ef08-69d5-46e1-9ad0-df4f29a12983",
   "metadata": {},
   "outputs": [],
   "source": [
    "x = df.drop(columns='Outcome', axis=1)\n",
    "y = df['Outcome']"
   ]
  },
  {
   "cell_type": "code",
   "execution_count": null,
   "id": "5645bfda-8974-4c24-b51c-6dd30bfdb6ca",
   "metadata": {},
   "outputs": [],
   "source": [
    "scaler = StandardScaler()"
   ]
  },
  {
   "cell_type": "code",
   "execution_count": null,
   "id": "985ab618-77b7-4bb8-9254-aa901713c668",
   "metadata": {},
   "outputs": [],
   "source": [
    "scaler.fit(x)"
   ]
  },
  {
   "cell_type": "code",
   "execution_count": null,
   "id": "bb7ff2ef-bb2f-4e17-85da-2013a6201595",
   "metadata": {},
   "outputs": [],
   "source": [
    "standarized_data = scaler.transform(x)"
   ]
  },
  {
   "cell_type": "code",
   "execution_count": null,
   "id": "918b3d8f-a054-4ba8-95da-6ff07a44a3a4",
   "metadata": {},
   "outputs": [],
   "source": [
    "standarized_data"
   ]
  },
  {
   "cell_type": "code",
   "execution_count": null,
   "id": "3261033e-b4d6-457f-8edc-0e8e40a11556",
   "metadata": {},
   "outputs": [],
   "source": [
    "x = standarized_data"
   ]
  },
  {
   "cell_type": "code",
   "execution_count": null,
   "id": "21aa4d6e-8f38-491c-868d-97fc1108e0c1",
   "metadata": {},
   "outputs": [],
   "source": [
    "x_train, x_test, y_train, y_test = train_test_split(x, y, test_size = 0.2)"
   ]
  },
  {
   "cell_type": "code",
   "execution_count": null,
   "id": "b1ec7076-ad6a-4d8c-b0ff-4e13d4863d3b",
   "metadata": {},
   "outputs": [],
   "source": [
    "#training process\n",
    "clf = svm.SVC(kernel='linear')\n",
    "clf.fit(x_train, y_train)"
   ]
  },
  {
   "cell_type": "code",
   "execution_count": null,
   "id": "dab0b13f-db4f-4e1e-9dbf-a5fa393e6cd5",
   "metadata": {},
   "outputs": [],
   "source": [
    "x_train_prediction = clf.predict(x_train)\n",
    "accuracy_score(x_train_prediction, y_train)"
   ]
  },
  {
   "cell_type": "code",
   "execution_count": null,
   "id": "4205b424-faeb-4356-aea3-5e4461b45973",
   "metadata": {},
   "outputs": [],
   "source": [
    "#accuracy on test data\n",
    "x_test_prediction = clf.predict(x_test)\n",
    "accuracy_score(x_test_prediction, y_test)"
   ]
  },
  {
   "cell_type": "code",
   "execution_count": null,
   "id": "6d5d1d7a-9f3a-4420-bf55-1588ecde45e0",
   "metadata": {},
   "outputs": [],
   "source": [
    "samples = (5, 59, 686, 4, 33, 44.5, 65, 43)\n",
    "\n",
    "input_np_array = np.asarray(samples)\n",
    "input_np_array_reshaped = input_np_array.reshape(1, -1)\n",
    "\n",
    "std_data = scaler.transform(input_np_array_reshaped)"
   ]
  },
  {
   "cell_type": "code",
   "execution_count": null,
   "id": "7f3dd8cc-1abe-4e67-80ff-3fbe38964255",
   "metadata": {},
   "outputs": [],
   "source": [
    "prediction = clf.predict(std_data)\n",
    "print(prediction)"
   ]
  },
  {
   "cell_type": "code",
   "execution_count": null,
   "id": "a5796b59-67b8-47a7-9904-a12a8a55b9e1",
   "metadata": {},
   "outputs": [],
   "source": [
    "if (prediction[0]==0):\n",
    "    print(\"person is not diabetic\")\n",
    "else:\n",
    "    print(\"person is diabetic\")"
   ]
  }
 ],
 "metadata": {
  "kernelspec": {
   "display_name": "Python 3 (ipykernel)",
   "language": "python",
   "name": "python3"
  },
  "language_info": {
   "codemirror_mode": {
    "name": "ipython",
    "version": 3
   },
   "file_extension": ".py",
   "mimetype": "text/x-python",
   "name": "python",
   "nbconvert_exporter": "python",
   "pygments_lexer": "ipython3",
   "version": "3.11.5"
  }
 },
 "nbformat": 4,
 "nbformat_minor": 5
}
